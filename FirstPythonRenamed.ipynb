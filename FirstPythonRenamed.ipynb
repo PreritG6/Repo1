{
 "cells": [
  {
   "cell_type": "markdown",
   "id": "5a5d1974-bcf7-4345-bcda-efca9491c843",
   "metadata": {},
   "source": [
    "x = input(\"Type a number: \")\n",
    "y = input(\"Type another number: \")\n",
    "\n",
    "sum = int(x) + int(y)\n",
    "\n",
    "print(\"The sum is: \", sum)\n",
    "\n",
    "\n"
   ]
  },
  {
   "cell_type": "markdown",
   "id": "50e121f8-29f8-4bed-be5b-096051ceb3c4",
   "metadata": {},
   "source": [
    "a  = 1\n",
    "b  = 2\n",
    "sum =  a +  b\n",
    "print (sum);"
   ]
  },
  {
   "cell_type": "code",
   "execution_count": null,
   "id": "56bd3773-2abc-46d9-9b0d-de2c7cae2725",
   "metadata": {},
   "outputs": [],
   "source": []
  }
 ],
 "metadata": {
  "kernelspec": {
   "display_name": "Python",
   "language": "python",
   "name": "conda-env-python-py"
  },
  "language_info": {
   "codemirror_mode": {
    "name": "ipython",
    "version": 3
   },
   "file_extension": ".py",
   "mimetype": "text/x-python",
   "name": "python",
   "nbconvert_exporter": "python",
   "pygments_lexer": "ipython3",
   "version": "3.7.12"
  }
 },
 "nbformat": 4,
 "nbformat_minor": 5
}
